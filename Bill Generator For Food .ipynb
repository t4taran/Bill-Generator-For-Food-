{
 "cells": [
  {
   "cell_type": "code",
   "execution_count": 17,
   "id": "30b66ef3",
   "metadata": {},
   "outputs": [
    {
     "name": "stdout",
     "output_type": "stream",
     "text": [
      "Welcome to Crave for Pizza Deliveries!\n",
      "What size pizza do you want? Press: s for small, m for medium, or l for large  \n",
      "YOUR CHOICE IS ...l\n",
      "price of Large is 20Rs\n",
      "Do you want pepperoni? Press: y for yes or n for no  \n",
      "YOUR CHOICE IS ...y\n",
      "Extra 3 Rs added\n",
      "Do you want extra cheese? Press: y for yes or n for no  \n",
      "YOUR CHOICE IS ... y\n",
      "Extra 3 Rs added\n",
      "Your final bill amount is 26 Rs\n",
      ".......Thank You Visit again.......\n"
     ]
    }
   ],
   "source": [
    "###ORDER AT PIZZA PYTHON \n",
    "#just run the code and order your customize pizza\n",
    "\n",
    "print(\"Welcome to Crave for Pizza Deliveries!\")\n",
    "size = input(\"What size pizza do you want? Press: s for small, m for medium, or l for large  \\nYOUR CHOICE IS ...\") #select the size you want\n",
    "bill=0\n",
    "if size==\"s\":\n",
    "    bill =10\n",
    "    print(\"price of Small is 10Rs\") #s for 10Rs , m for 15 Rs and l for 20 Rs\n",
    "elif size==\"m\":\n",
    "    bill=15\n",
    "    print(\"Price of medium is 15Rs \")\n",
    "else :\n",
    "    bill=20\n",
    "    print(\"price of Large is 20Rs\")\n",
    "add_pepperoni = input(\"Do you want pepperoni? Press: y for yes or n for no  \\nYOUR CHOICE IS ...\")\n",
    "if add_pepperoni==\"y\":  # anything other than y will be considered as no \n",
    "    bill=bill+3  #add Rs 3 for pepperoni\n",
    "    print(\"Extra 3 Rs added\")\n",
    "\n",
    "extra_cheese = input(\"Do you want extra cheese? Press: y for yes or n for no  \\nYOUR CHOICE IS ... \")\n",
    "if extra_cheese==\"y\": # anything other than y will be considered as no \n",
    "    bill=bill+3 #add Rs 3 for cheese\n",
    "    print(\"Extra 3 Rs added\")\n",
    "print(f\"Your final bill amount is {bill} Rs\")\n",
    "print(\".......Thank You Visit again.......\")\n"
   ]
  },
  {
   "cell_type": "code",
   "execution_count": null,
   "id": "a9b949a8",
   "metadata": {},
   "outputs": [],
   "source": []
  },
  {
   "cell_type": "code",
   "execution_count": null,
   "id": "6609b753",
   "metadata": {},
   "outputs": [],
   "source": []
  }
 ],
 "metadata": {
  "kernelspec": {
   "display_name": "Python 3 (ipykernel)",
   "language": "python",
   "name": "python3"
  },
  "language_info": {
   "codemirror_mode": {
    "name": "ipython",
    "version": 3
   },
   "file_extension": ".py",
   "mimetype": "text/x-python",
   "name": "python",
   "nbconvert_exporter": "python",
   "pygments_lexer": "ipython3",
   "version": "3.9.12"
  }
 },
 "nbformat": 4,
 "nbformat_minor": 5
}
